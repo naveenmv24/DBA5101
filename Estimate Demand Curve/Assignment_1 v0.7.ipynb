{
 "cells": [
  {
   "cell_type": "markdown",
   "metadata": {},
   "source": [
    "## Estimating Demand function"
   ]
  },
  {
   "cell_type": "code",
   "execution_count": 1,
   "metadata": {
    "colab": {
     "base_uri": "https://localhost:8080/",
     "height": 424
    },
    "id": "JtSxxJkDVu_b",
    "outputId": "f8a27446-8f7b-4c7c-bbbd-13bbe5a171a5"
   },
   "outputs": [
    {
     "data": {
      "text/html": [
       "<div>\n",
       "<style scoped>\n",
       "    .dataframe tbody tr th:only-of-type {\n",
       "        vertical-align: middle;\n",
       "    }\n",
       "\n",
       "    .dataframe tbody tr th {\n",
       "        vertical-align: top;\n",
       "    }\n",
       "\n",
       "    .dataframe thead th {\n",
       "        text-align: right;\n",
       "    }\n",
       "</style>\n",
       "<table border=\"1\" class=\"dataframe\">\n",
       "  <thead>\n",
       "    <tr style=\"text-align: right;\">\n",
       "      <th></th>\n",
       "      <th>Mon</th>\n",
       "      <th>Tue</th>\n",
       "      <th>Wed</th>\n",
       "      <th>Thu</th>\n",
       "      <th>Date</th>\n",
       "      <th>Stormy</th>\n",
       "      <th>Mixed</th>\n",
       "      <th>p</th>\n",
       "      <th>q</th>\n",
       "      <th>Rainy</th>\n",
       "      <th>Cold</th>\n",
       "      <th>Wind</th>\n",
       "    </tr>\n",
       "  </thead>\n",
       "  <tbody>\n",
       "    <tr>\n",
       "      <th>0</th>\n",
       "      <td>1</td>\n",
       "      <td>0</td>\n",
       "      <td>0</td>\n",
       "      <td>0</td>\n",
       "      <td>911202</td>\n",
       "      <td>1</td>\n",
       "      <td>0</td>\n",
       "      <td>-0.430783</td>\n",
       "      <td>8.994421</td>\n",
       "      <td>1</td>\n",
       "      <td>0</td>\n",
       "      <td>2.995732</td>\n",
       "    </tr>\n",
       "    <tr>\n",
       "      <th>1</th>\n",
       "      <td>0</td>\n",
       "      <td>1</td>\n",
       "      <td>0</td>\n",
       "      <td>0</td>\n",
       "      <td>911203</td>\n",
       "      <td>1</td>\n",
       "      <td>0</td>\n",
       "      <td>0.000000</td>\n",
       "      <td>7.707063</td>\n",
       "      <td>0</td>\n",
       "      <td>0</td>\n",
       "      <td>2.995732</td>\n",
       "    </tr>\n",
       "    <tr>\n",
       "      <th>2</th>\n",
       "      <td>0</td>\n",
       "      <td>0</td>\n",
       "      <td>1</td>\n",
       "      <td>0</td>\n",
       "      <td>911204</td>\n",
       "      <td>0</td>\n",
       "      <td>1</td>\n",
       "      <td>0.072321</td>\n",
       "      <td>8.350194</td>\n",
       "      <td>1</td>\n",
       "      <td>1</td>\n",
       "      <td>2.813411</td>\n",
       "    </tr>\n",
       "    <tr>\n",
       "      <th>3</th>\n",
       "      <td>0</td>\n",
       "      <td>0</td>\n",
       "      <td>0</td>\n",
       "      <td>1</td>\n",
       "      <td>911205</td>\n",
       "      <td>1</td>\n",
       "      <td>0</td>\n",
       "      <td>0.247139</td>\n",
       "      <td>8.656955</td>\n",
       "      <td>0</td>\n",
       "      <td>1</td>\n",
       "      <td>3.036554</td>\n",
       "    </tr>\n",
       "    <tr>\n",
       "      <th>4</th>\n",
       "      <td>0</td>\n",
       "      <td>0</td>\n",
       "      <td>0</td>\n",
       "      <td>0</td>\n",
       "      <td>911206</td>\n",
       "      <td>1</td>\n",
       "      <td>0</td>\n",
       "      <td>0.664327</td>\n",
       "      <td>7.844241</td>\n",
       "      <td>0</td>\n",
       "      <td>1</td>\n",
       "      <td>3.036554</td>\n",
       "    </tr>\n",
       "    <tr>\n",
       "      <th>...</th>\n",
       "      <td>...</td>\n",
       "      <td>...</td>\n",
       "      <td>...</td>\n",
       "      <td>...</td>\n",
       "      <td>...</td>\n",
       "      <td>...</td>\n",
       "      <td>...</td>\n",
       "      <td>...</td>\n",
       "      <td>...</td>\n",
       "      <td>...</td>\n",
       "      <td>...</td>\n",
       "      <td>...</td>\n",
       "    </tr>\n",
       "    <tr>\n",
       "      <th>106</th>\n",
       "      <td>1</td>\n",
       "      <td>0</td>\n",
       "      <td>0</td>\n",
       "      <td>0</td>\n",
       "      <td>920504</td>\n",
       "      <td>0</td>\n",
       "      <td>0</td>\n",
       "      <td>-0.798508</td>\n",
       "      <td>8.610683</td>\n",
       "      <td>0</td>\n",
       "      <td>0</td>\n",
       "      <td>2.862201</td>\n",
       "    </tr>\n",
       "    <tr>\n",
       "      <th>107</th>\n",
       "      <td>0</td>\n",
       "      <td>1</td>\n",
       "      <td>0</td>\n",
       "      <td>0</td>\n",
       "      <td>920505</td>\n",
       "      <td>0</td>\n",
       "      <td>1</td>\n",
       "      <td>-0.087011</td>\n",
       "      <td>7.162397</td>\n",
       "      <td>0</td>\n",
       "      <td>0</td>\n",
       "      <td>2.908721</td>\n",
       "    </tr>\n",
       "    <tr>\n",
       "      <th>108</th>\n",
       "      <td>0</td>\n",
       "      <td>0</td>\n",
       "      <td>1</td>\n",
       "      <td>0</td>\n",
       "      <td>920506</td>\n",
       "      <td>0</td>\n",
       "      <td>1</td>\n",
       "      <td>0.184922</td>\n",
       "      <td>7.362010</td>\n",
       "      <td>0</td>\n",
       "      <td>0</td>\n",
       "      <td>2.862201</td>\n",
       "    </tr>\n",
       "    <tr>\n",
       "      <th>109</th>\n",
       "      <td>0</td>\n",
       "      <td>0</td>\n",
       "      <td>0</td>\n",
       "      <td>1</td>\n",
       "      <td>920507</td>\n",
       "      <td>0</td>\n",
       "      <td>1</td>\n",
       "      <td>0.223143</td>\n",
       "      <td>8.764053</td>\n",
       "      <td>0</td>\n",
       "      <td>0</td>\n",
       "      <td>2.813411</td>\n",
       "    </tr>\n",
       "    <tr>\n",
       "      <th>110</th>\n",
       "      <td>0</td>\n",
       "      <td>0</td>\n",
       "      <td>0</td>\n",
       "      <td>0</td>\n",
       "      <td>920508</td>\n",
       "      <td>0</td>\n",
       "      <td>1</td>\n",
       "      <td>0.561118</td>\n",
       "      <td>8.328451</td>\n",
       "      <td>0</td>\n",
       "      <td>0</td>\n",
       "      <td>2.862201</td>\n",
       "    </tr>\n",
       "  </tbody>\n",
       "</table>\n",
       "<p>111 rows × 12 columns</p>\n",
       "</div>"
      ],
      "text/plain": [
       "     Mon  Tue  Wed  Thu    Date  Stormy  Mixed         p         q  Rainy  \\\n",
       "0      1    0    0    0  911202       1      0 -0.430783  8.994421      1   \n",
       "1      0    1    0    0  911203       1      0  0.000000  7.707063      0   \n",
       "2      0    0    1    0  911204       0      1  0.072321  8.350194      1   \n",
       "3      0    0    0    1  911205       1      0  0.247139  8.656955      0   \n",
       "4      0    0    0    0  911206       1      0  0.664327  7.844241      0   \n",
       "..   ...  ...  ...  ...     ...     ...    ...       ...       ...    ...   \n",
       "106    1    0    0    0  920504       0      0 -0.798508  8.610683      0   \n",
       "107    0    1    0    0  920505       0      1 -0.087011  7.162397      0   \n",
       "108    0    0    1    0  920506       0      1  0.184922  7.362010      0   \n",
       "109    0    0    0    1  920507       0      1  0.223143  8.764053      0   \n",
       "110    0    0    0    0  920508       0      1  0.561118  8.328451      0   \n",
       "\n",
       "     Cold      Wind  \n",
       "0       0  2.995732  \n",
       "1       0  2.995732  \n",
       "2       1  2.813411  \n",
       "3       1  3.036554  \n",
       "4       1  3.036554  \n",
       "..    ...       ...  \n",
       "106     0  2.862201  \n",
       "107     0  2.908721  \n",
       "108     0  2.862201  \n",
       "109     0  2.813411  \n",
       "110     0  2.862201  \n",
       "\n",
       "[111 rows x 12 columns]"
      ]
     },
     "execution_count": 1,
     "metadata": {},
     "output_type": "execute_result"
    }
   ],
   "source": [
    "import pandas as pd\n",
    "data = pd.read_csv('Data-GP1.csv')\n",
    "data"
   ]
  },
  {
   "cell_type": "code",
   "execution_count": 2,
   "metadata": {
    "id": "-C2PKsb78mzr"
   },
   "outputs": [],
   "source": [
    "#Defining variables\n",
    "y = data[['q']] # Quantity estimate for demand function\n",
    "y1 = data[['p']] # Price"
   ]
  },
  {
   "cell_type": "markdown",
   "metadata": {},
   "source": [
    "### Equation that we are estimating is Qd = beta0 + beta1 x price + sumprod(Days x gamma) + u1"
   ]
  },
  {
   "cell_type": "code",
   "execution_count": 3,
   "metadata": {},
   "outputs": [
    {
     "name": "stdout",
     "output_type": "stream",
     "text": [
      "     Mon  Tue  Wed  Thu\n",
      "0      1    0    0    0\n",
      "1      0    1    0    0\n",
      "2      0    0    1    0\n",
      "3      0    0    0    1\n",
      "4      0    0    0    0\n",
      "..   ...  ...  ...  ...\n",
      "106    1    0    0    0\n",
      "107    0    1    0    0\n",
      "108    0    0    1    0\n",
      "109    0    0    0    1\n",
      "110    0    0    0    0\n",
      "\n",
      "[111 rows x 4 columns]\n"
     ]
    }
   ],
   "source": [
    "z1 = data[['Mon', 'Tue', 'Wed', 'Thu']] #Exogenous variables\n",
    "print(z1)"
   ]
  },
  {
   "cell_type": "code",
   "execution_count": 4,
   "metadata": {},
   "outputs": [],
   "source": [
    "# Assuming that price is the endogenous variable\n",
    "# We can assume that price is related to certain weather conditions. Here considering - Stormy, Mixed, Rainy, Cold, Wind\n",
    "# Hence we consider these as the instrument variables\n",
    "listz = ['Mon','Tue','Wed','Thu','Stormy','Wind','Rainy']"
   ]
  },
  {
   "cell_type": "code",
   "execution_count": 5,
   "metadata": {},
   "outputs": [
    {
     "name": "stdout",
     "output_type": "stream",
     "text": [
      "                            OLS Regression Results                            \n",
      "==============================================================================\n",
      "Dep. Variable:                      p   R-squared:                       0.217\n",
      "Model:                            OLS   Adj. R-squared:                  0.164\n",
      "Method:                 Least Squares   F-statistic:                     4.087\n",
      "Date:                Sun, 18 Sep 2022   Prob (F-statistic):           0.000537\n",
      "Time:                        23:42:51   Log-Likelihood:                -36.557\n",
      "No. Observations:                 111   AIC:                             89.11\n",
      "Df Residuals:                     103   BIC:                             110.8\n",
      "Df Model:                           7                                         \n",
      "Covariance Type:            nonrobust                                         \n",
      "==============================================================================\n",
      "                 coef    std err          t      P>|t|      [0.025      0.975]\n",
      "------------------------------------------------------------------------------\n",
      "const         -1.8101      0.689     -2.626      0.010      -3.177      -0.443\n",
      "Mon           -0.1576      0.108     -1.457      0.148      -0.372       0.057\n",
      "Tue           -0.0879      0.106     -0.827      0.410      -0.298       0.123\n",
      "Wed           -0.0320      0.106     -0.302      0.763      -0.242       0.178\n",
      "Thu            0.0495      0.104      0.478      0.634      -0.156       0.255\n",
      "Stormy         0.1559      0.113      1.383      0.170      -0.068       0.380\n",
      "Wind           0.5650      0.251      2.249      0.027       0.067       1.063\n",
      "Rainy         -0.0125      0.092     -0.136      0.892      -0.194       0.169\n",
      "==============================================================================\n",
      "Omnibus:                        1.925   Durbin-Watson:                   0.650\n",
      "Prob(Omnibus):                  0.382   Jarque-Bera (JB):                1.941\n",
      "Skew:                          -0.306   Prob(JB):                        0.379\n",
      "Kurtosis:                       2.788   Cond. No.                         68.7\n",
      "==============================================================================\n",
      "\n",
      "Notes:\n",
      "[1] Standard Errors assume that the covariance matrix of the errors is correctly specified.\n"
     ]
    }
   ],
   "source": [
    "import statsmodels.api as sm\n",
    "z = data[listz]\n",
    "z = sm.add_constant(z)\n",
    "reduced_form = sm.OLS(y1, z).fit()\n",
    "print(reduced_form.summary())"
   ]
  },
  {
   "cell_type": "code",
   "execution_count": 6,
   "metadata": {},
   "outputs": [],
   "source": [
    "# Here, p values of Wind is less than 0.05. So price is heavily dependant on this instrument variable\n",
    "# Their F- statistic is significant or they are highly correlated to the price."
   ]
  },
  {
   "cell_type": "code",
   "execution_count": 7,
   "metadata": {},
   "outputs": [
    {
     "data": {
      "text/html": [
       "<div>\n",
       "<style scoped>\n",
       "    .dataframe tbody tr th:only-of-type {\n",
       "        vertical-align: middle;\n",
       "    }\n",
       "\n",
       "    .dataframe tbody tr th {\n",
       "        vertical-align: top;\n",
       "    }\n",
       "\n",
       "    .dataframe thead th {\n",
       "        text-align: right;\n",
       "    }\n",
       "</style>\n",
       "<table border=\"1\" class=\"dataframe\">\n",
       "  <thead>\n",
       "    <tr style=\"text-align: right;\">\n",
       "      <th></th>\n",
       "      <th>hat_y1</th>\n",
       "    </tr>\n",
       "  </thead>\n",
       "  <tbody>\n",
       "    <tr>\n",
       "      <th>0</th>\n",
       "      <td>-0.131785</td>\n",
       "    </tr>\n",
       "    <tr>\n",
       "      <th>1</th>\n",
       "      <td>-0.049562</td>\n",
       "    </tr>\n",
       "    <tr>\n",
       "      <th>2</th>\n",
       "      <td>-0.265101</td>\n",
       "    </tr>\n",
       "    <tr>\n",
       "      <th>3</th>\n",
       "      <td>0.110907</td>\n",
       "    </tr>\n",
       "    <tr>\n",
       "      <th>4</th>\n",
       "      <td>0.061365</td>\n",
       "    </tr>\n",
       "    <tr>\n",
       "      <th>...</th>\n",
       "      <td>...</td>\n",
       "    </tr>\n",
       "    <tr>\n",
       "      <th>106</th>\n",
       "      <td>-0.350704</td>\n",
       "    </tr>\n",
       "    <tr>\n",
       "      <th>107</th>\n",
       "      <td>-0.254665</td>\n",
       "    </tr>\n",
       "    <tr>\n",
       "      <th>108</th>\n",
       "      <td>-0.225070</td>\n",
       "    </tr>\n",
       "    <tr>\n",
       "      <th>109</th>\n",
       "      <td>-0.171106</td>\n",
       "    </tr>\n",
       "    <tr>\n",
       "      <th>110</th>\n",
       "      <td>-0.193084</td>\n",
       "    </tr>\n",
       "  </tbody>\n",
       "</table>\n",
       "<p>111 rows × 1 columns</p>\n",
       "</div>"
      ],
      "text/plain": [
       "       hat_y1\n",
       "0   -0.131785\n",
       "1   -0.049562\n",
       "2   -0.265101\n",
       "3    0.110907\n",
       "4    0.061365\n",
       "..        ...\n",
       "106 -0.350704\n",
       "107 -0.254665\n",
       "108 -0.225070\n",
       "109 -0.171106\n",
       "110 -0.193084\n",
       "\n",
       "[111 rows x 1 columns]"
      ]
     },
     "execution_count": 7,
     "metadata": {},
     "output_type": "execute_result"
    }
   ],
   "source": [
    "hat_y1_arr = reduced_form.fittedvalues\n",
    "hat_y1 = pd.DataFrame(hat_y1_arr, columns = ['hat_y1'])\n",
    "hat_y1"
   ]
  },
  {
   "cell_type": "code",
   "execution_count": 8,
   "metadata": {},
   "outputs": [
    {
     "name": "stdout",
     "output_type": "stream",
     "text": [
      "                            OLS Regression Results                            \n",
      "==============================================================================\n",
      "Dep. Variable:                      q   R-squared:                       0.207\n",
      "Model:                            OLS   Adj. R-squared:                  0.169\n",
      "Method:                 Least Squares   F-statistic:                     5.479\n",
      "Date:                Sun, 18 Sep 2022   Prob (F-statistic):           0.000161\n",
      "Time:                        23:42:51   Log-Likelihood:                -110.96\n",
      "No. Observations:                 111   AIC:                             233.9\n",
      "Df Residuals:                     105   BIC:                             250.2\n",
      "Df Model:                           5                                         \n",
      "Covariance Type:            nonrobust                                         \n",
      "==============================================================================\n",
      "                 coef    std err          t      P>|t|      [0.025      0.975]\n",
      "------------------------------------------------------------------------------\n",
      "const          8.5048      0.156     54.446      0.000       8.195       8.815\n",
      "hat_y1        -1.1254      0.371     -3.032      0.003      -1.861      -0.389\n",
      "Mon           -0.0258      0.206     -0.126      0.900      -0.434       0.382\n",
      "Tue           -0.5309      0.200     -2.660      0.009      -0.927      -0.135\n",
      "Wed           -0.5665      0.204     -2.774      0.007      -0.971      -0.162\n",
      "Thu            0.1096      0.200      0.547      0.585      -0.287       0.507\n",
      "==============================================================================\n",
      "Omnibus:                       14.033   Durbin-Watson:                   1.602\n",
      "Prob(Omnibus):                  0.001   Jarque-Bera (JB):               16.306\n",
      "Skew:                          -0.740   Prob(JB):                     0.000288\n",
      "Kurtosis:                       4.156   Cond. No.                         6.50\n",
      "==============================================================================\n",
      "\n",
      "Notes:\n",
      "[1] Standard Errors assume that the covariance matrix of the errors is correctly specified.\n",
      "-------------------------------\n"
     ]
    }
   ],
   "source": [
    "#Updating structural model using 2nd stage linear regression\n",
    "\n",
    "X = pd.concat([hat_y1, z1], axis=1)\n",
    "X = sm.add_constant(X)\n",
    "structuralModel = sm.OLS(y, X).fit()\n",
    "\n",
    "print(structuralModel.summary())\n",
    "print('-------------------------------')"
   ]
  },
  {
   "cell_type": "code",
   "execution_count": 9,
   "metadata": {
    "colab": {
     "base_uri": "https://localhost:8080/",
     "height": 424
    },
    "id": "c8UxkWzCe3jn",
    "outputId": "3d6b860f-c87a-4dfc-bb0c-c37195f9c366"
   },
   "outputs": [
    {
     "name": "stdout",
     "output_type": "stream",
     "text": [
      "        hat_v\n",
      "0   -0.298998\n",
      "1    0.049562\n",
      "2    0.337422\n",
      "3    0.136232\n",
      "4    0.602962\n",
      "..        ...\n",
      "106 -0.447804\n",
      "107  0.167654\n",
      "108  0.409993\n",
      "109  0.394250\n",
      "110  0.754202\n",
      "\n",
      "[111 rows x 1 columns]\n",
      "     const         p  Mon  Tue  Wed  Thu     hat_v\n",
      "0      1.0 -0.430783    1    0    0    0 -0.298998\n",
      "1      1.0  0.000000    0    1    0    0  0.049562\n",
      "2      1.0  0.072321    0    0    1    0  0.337422\n",
      "3      1.0  0.247139    0    0    0    1  0.136232\n",
      "4      1.0  0.664327    0    0    0    0  0.602962\n",
      "..     ...       ...  ...  ...  ...  ...       ...\n",
      "106    1.0 -0.798508    1    0    0    0 -0.447804\n",
      "107    1.0 -0.087011    0    1    0    0  0.167654\n",
      "108    1.0  0.184922    0    0    1    0  0.409993\n",
      "109    1.0  0.223143    0    0    0    1  0.394250\n",
      "110    1.0  0.561118    0    0    0    0  0.754202\n",
      "\n",
      "[111 rows x 7 columns]\n"
     ]
    }
   ],
   "source": [
    "# Hausman test\n",
    "hat_v = reduced_form.resid\n",
    "hat_v = pd.DataFrame(hat_v, columns = ['hat_v'])\n",
    "print(hat_v)\n",
    "struc_var = pd.concat([y1, z1, hat_v], axis=1)\n",
    "struc_var = sm.add_constant(struc_var)\n",
    "print(struc_var)"
   ]
  },
  {
   "cell_type": "code",
   "execution_count": 10,
   "metadata": {},
   "outputs": [
    {
     "name": "stdout",
     "output_type": "stream",
     "text": [
      "                            OLS Regression Results                            \n",
      "==============================================================================\n",
      "Dep. Variable:                      q   R-squared:                       0.242\n",
      "Model:                            OLS   Adj. R-squared:                  0.199\n",
      "Method:                 Least Squares   F-statistic:                     5.547\n",
      "Date:                Sun, 18 Sep 2022   Prob (F-statistic):           5.07e-05\n",
      "Time:                        23:42:51   Log-Likelihood:                -108.42\n",
      "No. Observations:                 111   AIC:                             230.8\n",
      "Df Residuals:                     104   BIC:                             249.8\n",
      "Df Model:                           6                                         \n",
      "Covariance Type:            nonrobust                                         \n",
      "==============================================================================\n",
      "                 coef    std err          t      P>|t|      [0.025      0.975]\n",
      "------------------------------------------------------------------------------\n",
      "const          8.5048      0.153     55.442      0.000       8.201       8.809\n",
      "p             -1.1254      0.364     -3.088      0.003      -1.848      -0.403\n",
      "Mon           -0.0258      0.202     -0.128      0.899      -0.427       0.375\n",
      "Tue           -0.5309      0.196     -2.709      0.008      -0.920      -0.142\n",
      "Wed           -0.5665      0.201     -2.825      0.006      -0.964      -0.169\n",
      "Thu            0.1096      0.197      0.557      0.579      -0.280       0.499\n",
      "hat_v          0.7116      0.410      1.736      0.085      -0.101       1.524\n",
      "==============================================================================\n",
      "Omnibus:                       13.931   Durbin-Watson:                   1.535\n",
      "Prob(Omnibus):                  0.001   Jarque-Bera (JB):               15.474\n",
      "Skew:                          -0.776   Prob(JB):                     0.000436\n",
      "Kurtosis:                       3.967   Cond. No.                         9.38\n",
      "==============================================================================\n",
      "\n",
      "Notes:\n",
      "[1] Standard Errors assume that the covariance matrix of the errors is correctly specified.\n"
     ]
    }
   ],
   "source": [
    "# Hausman test\n",
    "structural_equation = sm.OLS(y, struc_var).fit()\n",
    "print(structural_equation.summary())"
   ]
  },
  {
   "cell_type": "code",
   "execution_count": 16,
   "metadata": {},
   "outputs": [],
   "source": [
    "# Here p value of the coef of residual terms is more than 0.05\n",
    "# So we can not reject the null hypothesis that the price is indeed endogenous"
   ]
  },
  {
   "cell_type": "code",
   "execution_count": 12,
   "metadata": {},
   "outputs": [
    {
     "name": "stdout",
     "output_type": "stream",
     "text": [
      "0.0019090428770270895\n"
     ]
    }
   ],
   "source": [
    "# Sargan Test\n",
    "hat_u = structuralModel.resid\n",
    "SarganModel = sm.OLS(hat_u, z).fit()\n",
    "Rsquared = SarganModel.rsquared\n",
    "print(Rsquared)"
   ]
  },
  {
   "cell_type": "code",
   "execution_count": 13,
   "metadata": {},
   "outputs": [
    {
     "name": "stdout",
     "output_type": "stream",
     "text": [
      "0.6452793315635366\n"
     ]
    }
   ],
   "source": [
    "from scipy import stats\n",
    "N = 111 # n is number of sample points\n",
    "pval = 1 - stats.chi2.cdf(N*Rsquared,1)\n",
    "print(pval)"
   ]
  },
  {
   "cell_type": "code",
   "execution_count": 17,
   "metadata": {},
   "outputs": [],
   "source": [
    "# p value is big, i.e. more than 0.05. So we can consider Stormy, Wind and Rainy as instrument variables"
   ]
  },
  {
   "cell_type": "code",
   "execution_count": 21,
   "metadata": {},
   "outputs": [
    {
     "data": {
      "text/plain": [
       "const     8.504826\n",
       "hat_y1   -1.125404\n",
       "Mon      -0.025829\n",
       "Tue      -0.530926\n",
       "Wed      -0.566469\n",
       "Thu       0.109565\n",
       "dtype: float64"
      ]
     },
     "execution_count": 21,
     "metadata": {},
     "output_type": "execute_result"
    }
   ],
   "source": [
    "structuralModel.params"
   ]
  },
  {
   "cell_type": "markdown",
   "metadata": {},
   "source": [
    "### The Demand function can be considered as Qd = 8.5 - 1.12price - 0.02Mon - 0.53Tue - 0.57Wed + 0.11Thu"
   ]
  }
 ],
 "metadata": {
  "colab": {
   "provenance": []
  },
  "kernelspec": {
   "display_name": "Python 3 (ipykernel)",
   "language": "python",
   "name": "python3"
  },
  "language_info": {
   "codemirror_mode": {
    "name": "ipython",
    "version": 3
   },
   "file_extension": ".py",
   "mimetype": "text/x-python",
   "name": "python",
   "nbconvert_exporter": "python",
   "pygments_lexer": "ipython3",
   "version": "3.10.5"
  }
 },
 "nbformat": 4,
 "nbformat_minor": 4
}
